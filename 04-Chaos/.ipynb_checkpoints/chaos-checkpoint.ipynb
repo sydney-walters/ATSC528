{
 "cells": [
  {
   "cell_type": "code",
   "execution_count": 2,
   "id": "55c27f76",
   "metadata": {},
   "outputs": [],
   "source": [
    "\"\"\"\n",
    "Created By    : Jared W. Marquis\n",
    "Creation Date : 01 August 2022\n",
    "Course        : ATSC 528 - Atmospheric Data Analysis\n",
    "Assignment    : #04 - Chaos\n",
    "\n",
    "Purpose:\n",
    "Script to examine how chaos manifests in simple model.\n",
    "[PUT MORE INFORMATION HERE - I.E., WHAT SPECIFIC THING IS BEING DONE]\n",
    "\n",
    "\"\"\"\n",
    "__author__    = \"Jared W. Marquis\"\n",
    "__contact__   = \"jared.marquis@und.edu\""
   ]
  },
  {
   "cell_type": "code",
   "execution_count": 3,
   "id": "7335135f",
   "metadata": {},
   "outputs": [],
   "source": [
    "### Import Required Modules (shouldn't need to change) ###\n",
    "import numpy as np                 #numpy for math\n",
    "import matplotlib.pyplot as plt    #matplotlib for plotting\n",
    "import cartopy.crs as ccrs         #cartopy for plotting on map\n",
    "import cartopy.feature as cfeature #cartopy basic shapefiles\n"
   ]
  },
  {
   "cell_type": "code",
   "execution_count": null,
   "id": "d5507f28",
   "metadata": {},
   "outputs": [],
   "source": [
    "### In a separte text file (or below), provide a discussion of your results ###\n",
    "### Make sure to answer the following questions in your discussion          ###\n",
    "### 1 - Are the two simulations the same throughout the entire period?      ###\n",
    "###     If not, when do they diverge?                                       ###\n",
    "### 2 - If the ending points are different, what does this say regarding    ###\n",
    "###     the importance of providing NWP models, assuming this serves as a   ###\n",
    "###     proxy for one, with accurate and balanced initial conditions?       ###\n",
    "'''\n",
    "    \n",
    "\n",
    "'''"
   ]
  }
 ],
 "metadata": {
  "kernelspec": {
   "display_name": "Python 3 (ipykernel)",
   "language": "python",
   "name": "python3"
  },
  "language_info": {
   "codemirror_mode": {
    "name": "ipython",
    "version": 3
   },
   "file_extension": ".py",
   "mimetype": "text/x-python",
   "name": "python",
   "nbconvert_exporter": "python",
   "pygments_lexer": "ipython3",
   "version": "3.10.4"
  }
 },
 "nbformat": 4,
 "nbformat_minor": 5
}
