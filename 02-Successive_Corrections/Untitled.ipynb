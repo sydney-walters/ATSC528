{
 "cells": [
  {
   "cell_type": "code",
   "execution_count": null,
   "id": "ac8d275d-8d39-4e71-ac12-628ed318e594",
   "metadata": {},
   "outputs": [],
   "source": [
    "def bilinear_interp(xob, yob, grid_points, values):\n",
    "    (x1, y1), (x2, y1), (x1, y2), (x2, y2) = grid_points\n",
    "    f1, f2, f3, f4 = values\n",
    "    return (f1 * (x2 - x) * (y2 - y) +\n",
    "            f2 * (x - x1) * (y2 - y) +\n",
    "            f3 * (x2 - x) * (y - y1) +\n",
    "            f4 * (x - x1) * (y - y1)) / ((x2 - x1) * (y2 - y1))"
   ]
  },
  {
   "cell_type": "code",
   "execution_count": null,
   "id": "0edcc337-f184-4221-b324-8b67b6484e7c",
   "metadata": {},
   "outputs": [],
   "source": [
    "for i in range(len(xob)):\n",
    "    min_dist = np.inf\n",
    "    for j in range(len(yob)):\n",
    "        dxob = xob[i] - xob[j]  \n",
    "        dyob = yob[i] - yob[j]\n",
    "        dist = np.sqrt(dxob ** 2 + dyob ** 2)\n",
    "        if dist < min_dist:\n",
    "            min_dist = dist\n",
    "            min_distances.append(min_dist)\n",
    "dmin = np.mean(min_distances)\n",
    "print(dmin)"
   ]
  }
 ],
 "metadata": {
  "kernelspec": {
   "display_name": "Python [conda env:atsc528] *",
   "language": "python",
   "name": "conda-env-atsc528-py"
  },
  "language_info": {
   "codemirror_mode": {
    "name": "ipython",
    "version": 3
   },
   "file_extension": ".py",
   "mimetype": "text/x-python",
   "name": "python",
   "nbconvert_exporter": "python",
   "pygments_lexer": "ipython3",
   "version": "3.10.15"
  }
 },
 "nbformat": 4,
 "nbformat_minor": 5
}
