{
 "cells": [
  {
   "cell_type": "code",
   "execution_count": null,
   "id": "55c27f76",
   "metadata": {},
   "outputs": [],
   "source": [
    "\"\"\"\n",
    "Created By    : Jared W. Marquis\n",
    "Creation Date : 01 August 2022\n",
    "Course        : ATSC 528 - Atmospheric Data Analysis\n",
    "Assignment    : #02 - Successive Corrections\n",
    "\n",
    "Purpose:\n",
    "Script to take sparse upper air observations and analyze them on a\n",
    "polar stereographic map projection using successive corrections.\n",
    "[PUT MORE INFORMATION HERE - I.E., WHAT SPECIFIC THING IS BEING DONE]\n",
    "\n",
    "\"\"\"\n",
    "__author__    = \"Jared W. Marquis\"\n",
    "__contact__   = \"jared.marquis@und.edu\""
   ]
  },
  {
   "cell_type": "code",
   "execution_count": null,
   "id": "7335135f",
   "metadata": {},
   "outputs": [],
   "source": [
    "### Import Required Modules (shouldn't need to change) ###\n",
    "import numpy as np                 #numpy for math\n",
    "import matplotlib.pyplot as plt    #matplotlib for plotting\n",
    "import cartopy.crs as ccrs         #cartopy for plotting on map\n",
    "import cartopy.feature as cfeature #cartopy basic shapefiles"
   ]
  },
  {
   "cell_type": "code",
   "execution_count": null,
   "id": "fdc35da3",
   "metadata": {},
   "outputs": [],
   "source": [
    "### Create function for Cressman Analysis ###\n",
    "def cressman...:\n",
    "    \"\"\"\n",
    "    Function to analyze the value at a given point from other data\n",
    "    using a Cressman analysis technique.\n",
    "    \n",
    "    inputs:\n",
    "      something = something\n",
    "      \n",
    "    returns:\n",
    "      something = something\n",
    "    \"\"\"\n",
    "    \n",
    "    return something"
   ]
  },
  {
   "cell_type": "code",
   "execution_count": null,
   "id": "ac991609",
   "metadata": {},
   "outputs": [],
   "source": [
    "### Create function for bilinear interpolation ###\n"
   ]
  },
  {
   "cell_type": "code",
   "execution_count": null,
   "id": "e55bf048",
   "metadata": {},
   "outputs": [],
   "source": [
    "### Read in observations ###\n"
   ]
  },
  {
   "cell_type": "code",
   "execution_count": null,
   "id": "9464917a",
   "metadata": {},
   "outputs": [],
   "source": [
    "### Set up analysis map with a 22x28 rectangular grid of points ###\n"
   ]
  },
  {
   "cell_type": "code",
   "execution_count": null,
   "id": "64629e3a",
   "metadata": {},
   "outputs": [],
   "source": [
    "### convert obs lat/long to x,y ###\n"
   ]
  },
  {
   "cell_type": "code",
   "execution_count": null,
   "id": "8d5634ab",
   "metadata": {},
   "outputs": [],
   "source": [
    "### Perform 500mb geopotential height analyses using a Cressman weighting Function###\n",
    "#Use radii of influence 4, 2.5, 1.5 *dmin\n"
   ]
  },
  {
   "cell_type": "code",
   "execution_count": null,
   "id": "c4450fdd",
   "metadata": {},
   "outputs": [],
   "source": [
    "### First analysis, no successive corrections ###\n"
   ]
  },
  {
   "cell_type": "code",
   "execution_count": null,
   "id": "4bca0a81",
   "metadata": {},
   "outputs": [],
   "source": [
    "### Next Analyses ###"
   ]
  },
  {
   "cell_type": "code",
   "execution_count": null,
   "id": "49d5d9ef",
   "metadata": {},
   "outputs": [],
   "source": [
    "### Calculate Analysis Differences\n"
   ]
  },
  {
   "cell_type": "code",
   "execution_count": null,
   "id": "89c8ecdc",
   "metadata": {},
   "outputs": [],
   "source": [
    "### Plot 500mb analyses over a map ###\n",
    "#use old code...\n",
    "\n"
   ]
  },
  {
   "cell_type": "code",
   "execution_count": null,
   "id": "fa70d076",
   "metadata": {},
   "outputs": [],
   "source": [
    "### Plot Analysis Differences ###\n"
   ]
  },
  {
   "cell_type": "code",
   "execution_count": null,
   "id": "b141bb9c",
   "metadata": {},
   "outputs": [],
   "source": [
    "### Store the analyses in text files ###\n"
   ]
  },
  {
   "cell_type": "code",
   "execution_count": null,
   "id": "67e29b4a",
   "metadata": {},
   "outputs": [],
   "source": [
    "### Store the difference fields in text files ###\n"
   ]
  },
  {
   "cell_type": "code",
   "execution_count": null,
   "id": "dc488357",
   "metadata": {},
   "outputs": [],
   "source": [
    "### Store RMS values in text file ###\n"
   ]
  },
  {
   "cell_type": "code",
   "execution_count": null,
   "id": "661c6680",
   "metadata": {},
   "outputs": [],
   "source": [
    "### In a separte text file (or below), answer the following questions ###\n",
    "'''\n",
    "1 - Describe the general features that you see in your contoured analyses.\n",
    "    \n",
    "\n",
    "2 - Describe the differences that you see in your contoured analyses.  \n",
    "    Does one analysis seem to be smoother than the other?  If so, what would cause this?\n",
    "    \n",
    "\n",
    "3 - What happens as you increase the number of successive correction passes?  Is this \n",
    "    desirable?  Why or why not?\n",
    "    \n",
    "\n",
    "'''"
   ]
  }
 ],
 "metadata": {
  "kernelspec": {
   "display_name": "Python 3 (ipykernel)",
   "language": "python",
   "name": "python3"
  },
  "language_info": {
   "codemirror_mode": {
    "name": "ipython",
    "version": 3
   },
   "file_extension": ".py",
   "mimetype": "text/x-python",
   "name": "python",
   "nbconvert_exporter": "python",
   "pygments_lexer": "ipython3",
   "version": "3.10.4"
  }
 },
 "nbformat": 4,
 "nbformat_minor": 5
}
